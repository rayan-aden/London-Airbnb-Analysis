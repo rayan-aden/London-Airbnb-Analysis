{
 "cells": [
  {
   "cell_type": "markdown",
   "id": "42bd0bd6-c9eb-4d6a-81be-1a38210c2b4f",
   "metadata": {},
   "source": [
    "# London Airbnb Analysis\n",
    "### This notebook analyses Airbnb listings in London to help tourists make informed decisions about accommodations. In this notebook we will use python for data cleaning. There will also be Tableau visualisations within my repository."
   ]
  },
  {
   "cell_type": "code",
   "execution_count": 105,
   "id": "cf10354f-63db-431e-b74d-ce3b82d0b5a8",
   "metadata": {},
   "outputs": [],
   "source": [
    "#importing libraries\n",
    "import pandas as pd\n",
    "import numpy as np\n"
   ]
  },
  {
   "cell_type": "markdown",
   "id": "6fdf9b0d-c79e-4c32-a970-bd80ca0855e1",
   "metadata": {},
   "source": [
    "# Dataset Overview\n",
    "### - Source: [Inside Airbnb](https://insideairbnb.com/get-the-data/) (London)\n",
    "### - Contains info on price, number of reviews, location and room types.\n",
    "## We will begin by importing the dataset"
   ]
  },
  {
   "cell_type": "code",
   "execution_count": 108,
   "id": "66f2bddd-c25c-44bd-8ca4-831933c5a86e",
   "metadata": {},
   "outputs": [],
   "source": [
    "#loading data\n",
    "df = pd.read_csv('airbnb_listings.csv')"
   ]
  },
  {
   "cell_type": "code",
   "execution_count": 110,
   "id": "22f2ebb6-8c66-444d-b077-e87123638a22",
   "metadata": {},
   "outputs": [
    {
     "data": {
      "text/html": [
       "<div>\n",
       "<style scoped>\n",
       "    .dataframe tbody tr th:only-of-type {\n",
       "        vertical-align: middle;\n",
       "    }\n",
       "\n",
       "    .dataframe tbody tr th {\n",
       "        vertical-align: top;\n",
       "    }\n",
       "\n",
       "    .dataframe thead th {\n",
       "        text-align: right;\n",
       "    }\n",
       "</style>\n",
       "<table border=\"1\" class=\"dataframe\">\n",
       "  <thead>\n",
       "    <tr style=\"text-align: right;\">\n",
       "      <th></th>\n",
       "      <th>id</th>\n",
       "      <th>name</th>\n",
       "      <th>host_id</th>\n",
       "      <th>host_name</th>\n",
       "      <th>neighbourhood_group</th>\n",
       "      <th>neighbourhood</th>\n",
       "      <th>latitude</th>\n",
       "      <th>longitude</th>\n",
       "      <th>room_type</th>\n",
       "      <th>price</th>\n",
       "      <th>minimum_nights</th>\n",
       "      <th>number_of_reviews</th>\n",
       "      <th>last_review</th>\n",
       "      <th>reviews_per_month</th>\n",
       "      <th>calculated_host_listings_count</th>\n",
       "      <th>availability_365</th>\n",
       "      <th>number_of_reviews_ltm</th>\n",
       "      <th>license</th>\n",
       "    </tr>\n",
       "  </thead>\n",
       "  <tbody>\n",
       "    <tr>\n",
       "      <th>0</th>\n",
       "      <td>264776</td>\n",
       "      <td>Huge Four Bedroom Apartment</td>\n",
       "      <td>1389063</td>\n",
       "      <td>Sue</td>\n",
       "      <td>NaN</td>\n",
       "      <td>Lewisham</td>\n",
       "      <td>51.44306</td>\n",
       "      <td>-0.01948</td>\n",
       "      <td>Entire home/apt</td>\n",
       "      <td>297.0</td>\n",
       "      <td>3</td>\n",
       "      <td>68</td>\n",
       "      <td>2025-05-28</td>\n",
       "      <td>0.51</td>\n",
       "      <td>11</td>\n",
       "      <td>293</td>\n",
       "      <td>12</td>\n",
       "      <td>NaN</td>\n",
       "    </tr>\n",
       "    <tr>\n",
       "      <th>1</th>\n",
       "      <td>264777</td>\n",
       "      <td>One Bedroom Apartment</td>\n",
       "      <td>1389063</td>\n",
       "      <td>Sue</td>\n",
       "      <td>NaN</td>\n",
       "      <td>Lewisham</td>\n",
       "      <td>51.44284</td>\n",
       "      <td>-0.01997</td>\n",
       "      <td>Entire home/apt</td>\n",
       "      <td>98.0</td>\n",
       "      <td>3</td>\n",
       "      <td>24</td>\n",
       "      <td>2024-12-11</td>\n",
       "      <td>0.22</td>\n",
       "      <td>11</td>\n",
       "      <td>318</td>\n",
       "      <td>4</td>\n",
       "      <td>NaN</td>\n",
       "    </tr>\n",
       "    <tr>\n",
       "      <th>2</th>\n",
       "      <td>264778</td>\n",
       "      <td>Two Bedroom Newly Refurbished Apartment</td>\n",
       "      <td>1389063</td>\n",
       "      <td>Sue</td>\n",
       "      <td>NaN</td>\n",
       "      <td>Lewisham</td>\n",
       "      <td>51.44359</td>\n",
       "      <td>-0.02275</td>\n",
       "      <td>Entire home/apt</td>\n",
       "      <td>148.0</td>\n",
       "      <td>3</td>\n",
       "      <td>58</td>\n",
       "      <td>2025-05-01</td>\n",
       "      <td>0.43</td>\n",
       "      <td>11</td>\n",
       "      <td>302</td>\n",
       "      <td>6</td>\n",
       "      <td>NaN</td>\n",
       "    </tr>\n",
       "    <tr>\n",
       "      <th>3</th>\n",
       "      <td>264779</td>\n",
       "      <td>Refurbished Two Bedroom Apartment</td>\n",
       "      <td>1389063</td>\n",
       "      <td>Sue</td>\n",
       "      <td>NaN</td>\n",
       "      <td>Lewisham</td>\n",
       "      <td>51.44355</td>\n",
       "      <td>-0.02309</td>\n",
       "      <td>Entire home/apt</td>\n",
       "      <td>144.0</td>\n",
       "      <td>3</td>\n",
       "      <td>36</td>\n",
       "      <td>2025-04-10</td>\n",
       "      <td>0.30</td>\n",
       "      <td>11</td>\n",
       "      <td>328</td>\n",
       "      <td>7</td>\n",
       "      <td>NaN</td>\n",
       "    </tr>\n",
       "    <tr>\n",
       "      <th>4</th>\n",
       "      <td>264780</td>\n",
       "      <td>Spacious refurbished 2 bedroom apt with balcony</td>\n",
       "      <td>1389063</td>\n",
       "      <td>Sue</td>\n",
       "      <td>NaN</td>\n",
       "      <td>Lewisham</td>\n",
       "      <td>51.44333</td>\n",
       "      <td>-0.02307</td>\n",
       "      <td>Entire home/apt</td>\n",
       "      <td>157.0</td>\n",
       "      <td>3</td>\n",
       "      <td>54</td>\n",
       "      <td>2024-12-29</td>\n",
       "      <td>0.35</td>\n",
       "      <td>11</td>\n",
       "      <td>255</td>\n",
       "      <td>4</td>\n",
       "      <td>NaN</td>\n",
       "    </tr>\n",
       "  </tbody>\n",
       "</table>\n",
       "</div>"
      ],
      "text/plain": [
       "       id                                             name  host_id host_name  \\\n",
       "0  264776                      Huge Four Bedroom Apartment  1389063       Sue   \n",
       "1  264777                            One Bedroom Apartment  1389063       Sue   \n",
       "2  264778          Two Bedroom Newly Refurbished Apartment  1389063       Sue   \n",
       "3  264779                Refurbished Two Bedroom Apartment  1389063       Sue   \n",
       "4  264780  Spacious refurbished 2 bedroom apt with balcony  1389063       Sue   \n",
       "\n",
       "   neighbourhood_group neighbourhood  latitude  longitude        room_type  \\\n",
       "0                  NaN      Lewisham  51.44306   -0.01948  Entire home/apt   \n",
       "1                  NaN      Lewisham  51.44284   -0.01997  Entire home/apt   \n",
       "2                  NaN      Lewisham  51.44359   -0.02275  Entire home/apt   \n",
       "3                  NaN      Lewisham  51.44355   -0.02309  Entire home/apt   \n",
       "4                  NaN      Lewisham  51.44333   -0.02307  Entire home/apt   \n",
       "\n",
       "   price  minimum_nights  number_of_reviews last_review  reviews_per_month  \\\n",
       "0  297.0               3                 68  2025-05-28               0.51   \n",
       "1   98.0               3                 24  2024-12-11               0.22   \n",
       "2  148.0               3                 58  2025-05-01               0.43   \n",
       "3  144.0               3                 36  2025-04-10               0.30   \n",
       "4  157.0               3                 54  2024-12-29               0.35   \n",
       "\n",
       "   calculated_host_listings_count  availability_365  number_of_reviews_ltm  \\\n",
       "0                              11               293                     12   \n",
       "1                              11               318                      4   \n",
       "2                              11               302                      6   \n",
       "3                              11               328                      7   \n",
       "4                              11               255                      4   \n",
       "\n",
       "   license  \n",
       "0      NaN  \n",
       "1      NaN  \n",
       "2      NaN  \n",
       "3      NaN  \n",
       "4      NaN  "
      ]
     },
     "execution_count": 110,
     "metadata": {},
     "output_type": "execute_result"
    }
   ],
   "source": [
    "df.head()"
   ]
  },
  {
   "cell_type": "code",
   "execution_count": 112,
   "id": "a8fcb6be-5f6e-464e-aa45-d93026870a74",
   "metadata": {},
   "outputs": [
    {
     "data": {
      "text/plain": [
       "(96651, 18)"
      ]
     },
     "execution_count": 112,
     "metadata": {},
     "output_type": "execute_result"
    }
   ],
   "source": [
    "df.shape"
   ]
  },
  {
   "cell_type": "markdown",
   "id": "123c1b0b-d82f-4793-8084-73799ecdb64e",
   "metadata": {},
   "source": [
    "# Data Cleaning\n",
    "### Steps performed\n",
    "\n",
    "### 1. Removed Duplicates\n",
    "### 2. Handled missing values\n",
    "### 3. Standardised formats for consistency\n"
   ]
  },
  {
   "cell_type": "code",
   "execution_count": 115,
   "id": "b0e3b5ad-7f74-4bca-97fb-9e2295b023a7",
   "metadata": {},
   "outputs": [
    {
     "data": {
      "text/plain": [
       "id                                    0\n",
       "name                                  0\n",
       "host_id                               0\n",
       "host_name                            40\n",
       "neighbourhood_group               96651\n",
       "neighbourhood                         0\n",
       "latitude                              0\n",
       "longitude                             0\n",
       "room_type                             0\n",
       "price                             33967\n",
       "minimum_nights                        0\n",
       "number_of_reviews                     0\n",
       "last_review                       25164\n",
       "reviews_per_month                 25164\n",
       "calculated_host_listings_count        0\n",
       "availability_365                      0\n",
       "number_of_reviews_ltm                 0\n",
       "license                           96651\n",
       "dtype: int64"
      ]
     },
     "execution_count": 115,
     "metadata": {},
     "output_type": "execute_result"
    }
   ],
   "source": [
    "df.isnull().sum()"
   ]
  },
  {
   "cell_type": "code",
   "execution_count": 117,
   "id": "ab0ee975-07ec-4a00-83af-8a4ad836af2c",
   "metadata": {},
   "outputs": [
    {
     "name": "stdout",
     "output_type": "stream",
     "text": [
      "id - 0.0\n",
      "name - 0.0\n",
      "host_id - 0.0\n",
      "host_name - 0.000413860177339086\n",
      "neighbourhood_group - 1.0\n",
      "neighbourhood - 0.0\n",
      "latitude - 0.0\n",
      "longitude - 0.0\n",
      "room_type - 0.0\n",
      "price - 0.3514397160919183\n",
      "minimum_nights - 0.0\n",
      "number_of_reviews - 0.0\n",
      "last_review - 0.26035943756401897\n",
      "reviews_per_month - 0.26035943756401897\n",
      "calculated_host_listings_count - 0.0\n",
      "availability_365 - 0.0\n",
      "number_of_reviews_ltm - 0.0\n",
      "license - 1.0\n"
     ]
    }
   ],
   "source": [
    "for col in df.columns:\n",
    "    pct_missing = np.mean(df[col].isnull())\n",
    "    print(\"{} - {}\".format(col, pct_missing))"
   ]
  },
  {
   "cell_type": "code",
   "execution_count": 119,
   "id": "3c691865-f272-45f0-8021-0a1bd9ed44da",
   "metadata": {},
   "outputs": [],
   "source": [
    "df = df.drop([\"neighbourhood_group\", \"license\",\"last_review\"], axis=1)\n"
   ]
  },
  {
   "cell_type": "code",
   "execution_count": 121,
   "id": "2b38df62-79dc-4e79-bbbe-d6d09e458dbf",
   "metadata": {},
   "outputs": [
    {
     "data": {
      "text/html": [
       "<div>\n",
       "<style scoped>\n",
       "    .dataframe tbody tr th:only-of-type {\n",
       "        vertical-align: middle;\n",
       "    }\n",
       "\n",
       "    .dataframe tbody tr th {\n",
       "        vertical-align: top;\n",
       "    }\n",
       "\n",
       "    .dataframe thead th {\n",
       "        text-align: right;\n",
       "    }\n",
       "</style>\n",
       "<table border=\"1\" class=\"dataframe\">\n",
       "  <thead>\n",
       "    <tr style=\"text-align: right;\">\n",
       "      <th></th>\n",
       "      <th>id</th>\n",
       "      <th>name</th>\n",
       "      <th>host_id</th>\n",
       "      <th>host_name</th>\n",
       "      <th>neighbourhood</th>\n",
       "      <th>latitude</th>\n",
       "      <th>longitude</th>\n",
       "      <th>room_type</th>\n",
       "      <th>price</th>\n",
       "      <th>minimum_nights</th>\n",
       "      <th>number_of_reviews</th>\n",
       "      <th>reviews_per_month</th>\n",
       "      <th>calculated_host_listings_count</th>\n",
       "      <th>availability_365</th>\n",
       "      <th>number_of_reviews_ltm</th>\n",
       "    </tr>\n",
       "  </thead>\n",
       "  <tbody>\n",
       "    <tr>\n",
       "      <th>0</th>\n",
       "      <td>264776</td>\n",
       "      <td>Huge Four Bedroom Apartment</td>\n",
       "      <td>1389063</td>\n",
       "      <td>Sue</td>\n",
       "      <td>Lewisham</td>\n",
       "      <td>51.44306</td>\n",
       "      <td>-0.01948</td>\n",
       "      <td>Entire home/apt</td>\n",
       "      <td>297.0</td>\n",
       "      <td>3</td>\n",
       "      <td>68</td>\n",
       "      <td>0.51</td>\n",
       "      <td>11</td>\n",
       "      <td>293</td>\n",
       "      <td>12</td>\n",
       "    </tr>\n",
       "    <tr>\n",
       "      <th>1</th>\n",
       "      <td>264777</td>\n",
       "      <td>One Bedroom Apartment</td>\n",
       "      <td>1389063</td>\n",
       "      <td>Sue</td>\n",
       "      <td>Lewisham</td>\n",
       "      <td>51.44284</td>\n",
       "      <td>-0.01997</td>\n",
       "      <td>Entire home/apt</td>\n",
       "      <td>98.0</td>\n",
       "      <td>3</td>\n",
       "      <td>24</td>\n",
       "      <td>0.22</td>\n",
       "      <td>11</td>\n",
       "      <td>318</td>\n",
       "      <td>4</td>\n",
       "    </tr>\n",
       "    <tr>\n",
       "      <th>2</th>\n",
       "      <td>264778</td>\n",
       "      <td>Two Bedroom Newly Refurbished Apartment</td>\n",
       "      <td>1389063</td>\n",
       "      <td>Sue</td>\n",
       "      <td>Lewisham</td>\n",
       "      <td>51.44359</td>\n",
       "      <td>-0.02275</td>\n",
       "      <td>Entire home/apt</td>\n",
       "      <td>148.0</td>\n",
       "      <td>3</td>\n",
       "      <td>58</td>\n",
       "      <td>0.43</td>\n",
       "      <td>11</td>\n",
       "      <td>302</td>\n",
       "      <td>6</td>\n",
       "    </tr>\n",
       "    <tr>\n",
       "      <th>3</th>\n",
       "      <td>264779</td>\n",
       "      <td>Refurbished Two Bedroom Apartment</td>\n",
       "      <td>1389063</td>\n",
       "      <td>Sue</td>\n",
       "      <td>Lewisham</td>\n",
       "      <td>51.44355</td>\n",
       "      <td>-0.02309</td>\n",
       "      <td>Entire home/apt</td>\n",
       "      <td>144.0</td>\n",
       "      <td>3</td>\n",
       "      <td>36</td>\n",
       "      <td>0.30</td>\n",
       "      <td>11</td>\n",
       "      <td>328</td>\n",
       "      <td>7</td>\n",
       "    </tr>\n",
       "    <tr>\n",
       "      <th>4</th>\n",
       "      <td>264780</td>\n",
       "      <td>Spacious refurbished 2 bedroom apt with balcony</td>\n",
       "      <td>1389063</td>\n",
       "      <td>Sue</td>\n",
       "      <td>Lewisham</td>\n",
       "      <td>51.44333</td>\n",
       "      <td>-0.02307</td>\n",
       "      <td>Entire home/apt</td>\n",
       "      <td>157.0</td>\n",
       "      <td>3</td>\n",
       "      <td>54</td>\n",
       "      <td>0.35</td>\n",
       "      <td>11</td>\n",
       "      <td>255</td>\n",
       "      <td>4</td>\n",
       "    </tr>\n",
       "  </tbody>\n",
       "</table>\n",
       "</div>"
      ],
      "text/plain": [
       "       id                                             name  host_id host_name  \\\n",
       "0  264776                      Huge Four Bedroom Apartment  1389063       Sue   \n",
       "1  264777                            One Bedroom Apartment  1389063       Sue   \n",
       "2  264778          Two Bedroom Newly Refurbished Apartment  1389063       Sue   \n",
       "3  264779                Refurbished Two Bedroom Apartment  1389063       Sue   \n",
       "4  264780  Spacious refurbished 2 bedroom apt with balcony  1389063       Sue   \n",
       "\n",
       "  neighbourhood  latitude  longitude        room_type  price  minimum_nights  \\\n",
       "0      Lewisham  51.44306   -0.01948  Entire home/apt  297.0               3   \n",
       "1      Lewisham  51.44284   -0.01997  Entire home/apt   98.0               3   \n",
       "2      Lewisham  51.44359   -0.02275  Entire home/apt  148.0               3   \n",
       "3      Lewisham  51.44355   -0.02309  Entire home/apt  144.0               3   \n",
       "4      Lewisham  51.44333   -0.02307  Entire home/apt  157.0               3   \n",
       "\n",
       "   number_of_reviews  reviews_per_month  calculated_host_listings_count  \\\n",
       "0                 68               0.51                              11   \n",
       "1                 24               0.22                              11   \n",
       "2                 58               0.43                              11   \n",
       "3                 36               0.30                              11   \n",
       "4                 54               0.35                              11   \n",
       "\n",
       "   availability_365  number_of_reviews_ltm  \n",
       "0               293                     12  \n",
       "1               318                      4  \n",
       "2               302                      6  \n",
       "3               328                      7  \n",
       "4               255                      4  "
      ]
     },
     "execution_count": 121,
     "metadata": {},
     "output_type": "execute_result"
    }
   ],
   "source": [
    "df.head()"
   ]
  },
  {
   "cell_type": "code",
   "execution_count": 123,
   "id": "1024a6ed-9a32-4e73-a12d-0952e124cabc",
   "metadata": {},
   "outputs": [
    {
     "data": {
      "text/plain": [
       "(96651, 15)"
      ]
     },
     "execution_count": 123,
     "metadata": {},
     "output_type": "execute_result"
    }
   ],
   "source": [
    "df.shape"
   ]
  },
  {
   "cell_type": "code",
   "execution_count": 125,
   "id": "2e50ebf2-542a-4ae7-a789-92800856c1fd",
   "metadata": {},
   "outputs": [
    {
     "data": {
      "text/plain": [
       "33967"
      ]
     },
     "execution_count": 125,
     "metadata": {},
     "output_type": "execute_result"
    }
   ],
   "source": [
    "df['price'].isna().sum()"
   ]
  },
  {
   "cell_type": "code",
   "execution_count": 127,
   "id": "fa57a5e7-14c7-445f-88d1-89a05f9fe82d",
   "metadata": {},
   "outputs": [],
   "source": [
    "df = df.dropna(subset = 'host_name')"
   ]
  },
  {
   "cell_type": "code",
   "execution_count": 129,
   "id": "2c6dbce4-ad97-44c6-8c10-7c1cf7f87eda",
   "metadata": {},
   "outputs": [
    {
     "data": {
      "text/plain": [
       "id                                    0\n",
       "name                                  0\n",
       "host_id                               0\n",
       "host_name                             0\n",
       "neighbourhood                         0\n",
       "latitude                              0\n",
       "longitude                             0\n",
       "room_type                             0\n",
       "price                             33955\n",
       "minimum_nights                        0\n",
       "number_of_reviews                     0\n",
       "reviews_per_month                 25152\n",
       "calculated_host_listings_count        0\n",
       "availability_365                      0\n",
       "number_of_reviews_ltm                 0\n",
       "dtype: int64"
      ]
     },
     "execution_count": 129,
     "metadata": {},
     "output_type": "execute_result"
    }
   ],
   "source": [
    "df.isna().sum()"
   ]
  },
  {
   "cell_type": "code",
   "execution_count": 131,
   "id": "63d94f23-7c11-4023-a815-fe77ef83b111",
   "metadata": {},
   "outputs": [],
   "source": [
    "# fill the price with median by room type\n",
    "\n",
    "df['price'] = df.groupby('room_type')['price'].transform(\n",
    "    lambda x: x.fillna(x.median())\n",
    ")"
   ]
  },
  {
   "cell_type": "code",
   "execution_count": 132,
   "id": "eedbfc66-47d0-438f-ad66-1de287a23468",
   "metadata": {},
   "outputs": [
    {
     "data": {
      "text/plain": [
       "id                                    0\n",
       "name                                  0\n",
       "host_id                               0\n",
       "host_name                             0\n",
       "neighbourhood                         0\n",
       "latitude                              0\n",
       "longitude                             0\n",
       "room_type                             0\n",
       "price                                 0\n",
       "minimum_nights                        0\n",
       "number_of_reviews                     0\n",
       "reviews_per_month                 25152\n",
       "calculated_host_listings_count        0\n",
       "availability_365                      0\n",
       "number_of_reviews_ltm                 0\n",
       "dtype: int64"
      ]
     },
     "execution_count": 132,
     "metadata": {},
     "output_type": "execute_result"
    }
   ],
   "source": [
    "df.isna().sum()"
   ]
  },
  {
   "cell_type": "code",
   "execution_count": 135,
   "id": "a040508f-a76d-4ba8-b8c4-f883b2657c8f",
   "metadata": {},
   "outputs": [],
   "source": [
    "## filling any missing values with 0\n",
    "df['reviews_per_month']  = df['reviews_per_month'].fillna(0)"
   ]
  },
  {
   "cell_type": "code",
   "execution_count": 137,
   "id": "18536619-6084-49fa-a717-24dd91675302",
   "metadata": {},
   "outputs": [
    {
     "data": {
      "text/plain": [
       "id                                0\n",
       "name                              0\n",
       "host_id                           0\n",
       "host_name                         0\n",
       "neighbourhood                     0\n",
       "latitude                          0\n",
       "longitude                         0\n",
       "room_type                         0\n",
       "price                             0\n",
       "minimum_nights                    0\n",
       "number_of_reviews                 0\n",
       "reviews_per_month                 0\n",
       "calculated_host_listings_count    0\n",
       "availability_365                  0\n",
       "number_of_reviews_ltm             0\n",
       "dtype: int64"
      ]
     },
     "execution_count": 137,
     "metadata": {},
     "output_type": "execute_result"
    }
   ],
   "source": [
    "df.isna().sum()"
   ]
  },
  {
   "cell_type": "code",
   "execution_count": 139,
   "id": "ba381f56-d940-4ee3-ae9b-c6267f511856",
   "metadata": {},
   "outputs": [
    {
     "data": {
      "text/plain": [
       "id                                  int64\n",
       "name                               object\n",
       "host_id                             int64\n",
       "host_name                          object\n",
       "neighbourhood                      object\n",
       "latitude                          float64\n",
       "longitude                         float64\n",
       "room_type                          object\n",
       "price                             float64\n",
       "minimum_nights                      int64\n",
       "number_of_reviews                   int64\n",
       "reviews_per_month                 float64\n",
       "calculated_host_listings_count      int64\n",
       "availability_365                    int64\n",
       "number_of_reviews_ltm               int64\n",
       "dtype: object"
      ]
     },
     "execution_count": 139,
     "metadata": {},
     "output_type": "execute_result"
    }
   ],
   "source": [
    "df.dtypes"
   ]
  },
  {
   "cell_type": "code",
   "execution_count": 141,
   "id": "54b253cd-4ea4-4517-b669-99c93a84bdfe",
   "metadata": {},
   "outputs": [],
   "source": [
    "df['price'] = df['price'].astype(int)"
   ]
  },
  {
   "cell_type": "code",
   "execution_count": 143,
   "id": "1074a338-28a4-4a3f-b69b-25fad250fcb5",
   "metadata": {},
   "outputs": [
    {
     "data": {
      "text/html": [
       "<div>\n",
       "<style scoped>\n",
       "    .dataframe tbody tr th:only-of-type {\n",
       "        vertical-align: middle;\n",
       "    }\n",
       "\n",
       "    .dataframe tbody tr th {\n",
       "        vertical-align: top;\n",
       "    }\n",
       "\n",
       "    .dataframe thead th {\n",
       "        text-align: right;\n",
       "    }\n",
       "</style>\n",
       "<table border=\"1\" class=\"dataframe\">\n",
       "  <thead>\n",
       "    <tr style=\"text-align: right;\">\n",
       "      <th></th>\n",
       "      <th>id</th>\n",
       "      <th>name</th>\n",
       "      <th>host_id</th>\n",
       "      <th>host_name</th>\n",
       "      <th>neighbourhood</th>\n",
       "      <th>latitude</th>\n",
       "      <th>longitude</th>\n",
       "      <th>room_type</th>\n",
       "      <th>price</th>\n",
       "      <th>minimum_nights</th>\n",
       "      <th>number_of_reviews</th>\n",
       "      <th>reviews_per_month</th>\n",
       "      <th>calculated_host_listings_count</th>\n",
       "      <th>availability_365</th>\n",
       "      <th>number_of_reviews_ltm</th>\n",
       "    </tr>\n",
       "  </thead>\n",
       "  <tbody>\n",
       "    <tr>\n",
       "      <th>0</th>\n",
       "      <td>264776</td>\n",
       "      <td>Huge Four Bedroom Apartment</td>\n",
       "      <td>1389063</td>\n",
       "      <td>Sue</td>\n",
       "      <td>Lewisham</td>\n",
       "      <td>51.44306</td>\n",
       "      <td>-0.01948</td>\n",
       "      <td>Entire home/apt</td>\n",
       "      <td>297</td>\n",
       "      <td>3</td>\n",
       "      <td>68</td>\n",
       "      <td>0.51</td>\n",
       "      <td>11</td>\n",
       "      <td>293</td>\n",
       "      <td>12</td>\n",
       "    </tr>\n",
       "    <tr>\n",
       "      <th>1</th>\n",
       "      <td>264777</td>\n",
       "      <td>One Bedroom Apartment</td>\n",
       "      <td>1389063</td>\n",
       "      <td>Sue</td>\n",
       "      <td>Lewisham</td>\n",
       "      <td>51.44284</td>\n",
       "      <td>-0.01997</td>\n",
       "      <td>Entire home/apt</td>\n",
       "      <td>98</td>\n",
       "      <td>3</td>\n",
       "      <td>24</td>\n",
       "      <td>0.22</td>\n",
       "      <td>11</td>\n",
       "      <td>318</td>\n",
       "      <td>4</td>\n",
       "    </tr>\n",
       "    <tr>\n",
       "      <th>2</th>\n",
       "      <td>264778</td>\n",
       "      <td>Two Bedroom Newly Refurbished Apartment</td>\n",
       "      <td>1389063</td>\n",
       "      <td>Sue</td>\n",
       "      <td>Lewisham</td>\n",
       "      <td>51.44359</td>\n",
       "      <td>-0.02275</td>\n",
       "      <td>Entire home/apt</td>\n",
       "      <td>148</td>\n",
       "      <td>3</td>\n",
       "      <td>58</td>\n",
       "      <td>0.43</td>\n",
       "      <td>11</td>\n",
       "      <td>302</td>\n",
       "      <td>6</td>\n",
       "    </tr>\n",
       "    <tr>\n",
       "      <th>3</th>\n",
       "      <td>264779</td>\n",
       "      <td>Refurbished Two Bedroom Apartment</td>\n",
       "      <td>1389063</td>\n",
       "      <td>Sue</td>\n",
       "      <td>Lewisham</td>\n",
       "      <td>51.44355</td>\n",
       "      <td>-0.02309</td>\n",
       "      <td>Entire home/apt</td>\n",
       "      <td>144</td>\n",
       "      <td>3</td>\n",
       "      <td>36</td>\n",
       "      <td>0.30</td>\n",
       "      <td>11</td>\n",
       "      <td>328</td>\n",
       "      <td>7</td>\n",
       "    </tr>\n",
       "    <tr>\n",
       "      <th>4</th>\n",
       "      <td>264780</td>\n",
       "      <td>Spacious refurbished 2 bedroom apt with balcony</td>\n",
       "      <td>1389063</td>\n",
       "      <td>Sue</td>\n",
       "      <td>Lewisham</td>\n",
       "      <td>51.44333</td>\n",
       "      <td>-0.02307</td>\n",
       "      <td>Entire home/apt</td>\n",
       "      <td>157</td>\n",
       "      <td>3</td>\n",
       "      <td>54</td>\n",
       "      <td>0.35</td>\n",
       "      <td>11</td>\n",
       "      <td>255</td>\n",
       "      <td>4</td>\n",
       "    </tr>\n",
       "  </tbody>\n",
       "</table>\n",
       "</div>"
      ],
      "text/plain": [
       "       id                                             name  host_id host_name  \\\n",
       "0  264776                      Huge Four Bedroom Apartment  1389063       Sue   \n",
       "1  264777                            One Bedroom Apartment  1389063       Sue   \n",
       "2  264778          Two Bedroom Newly Refurbished Apartment  1389063       Sue   \n",
       "3  264779                Refurbished Two Bedroom Apartment  1389063       Sue   \n",
       "4  264780  Spacious refurbished 2 bedroom apt with balcony  1389063       Sue   \n",
       "\n",
       "  neighbourhood  latitude  longitude        room_type  price  minimum_nights  \\\n",
       "0      Lewisham  51.44306   -0.01948  Entire home/apt    297               3   \n",
       "1      Lewisham  51.44284   -0.01997  Entire home/apt     98               3   \n",
       "2      Lewisham  51.44359   -0.02275  Entire home/apt    148               3   \n",
       "3      Lewisham  51.44355   -0.02309  Entire home/apt    144               3   \n",
       "4      Lewisham  51.44333   -0.02307  Entire home/apt    157               3   \n",
       "\n",
       "   number_of_reviews  reviews_per_month  calculated_host_listings_count  \\\n",
       "0                 68               0.51                              11   \n",
       "1                 24               0.22                              11   \n",
       "2                 58               0.43                              11   \n",
       "3                 36               0.30                              11   \n",
       "4                 54               0.35                              11   \n",
       "\n",
       "   availability_365  number_of_reviews_ltm  \n",
       "0               293                     12  \n",
       "1               318                      4  \n",
       "2               302                      6  \n",
       "3               328                      7  \n",
       "4               255                      4  "
      ]
     },
     "execution_count": 143,
     "metadata": {},
     "output_type": "execute_result"
    }
   ],
   "source": [
    "df.head()"
   ]
  },
  {
   "cell_type": "code",
   "execution_count": 145,
   "id": "abf80cd4-d26f-472d-bb10-899da63f3116",
   "metadata": {},
   "outputs": [
    {
     "data": {
      "text/plain": [
       "0"
      ]
     },
     "execution_count": 145,
     "metadata": {},
     "output_type": "execute_result"
    }
   ],
   "source": [
    "#checking for any duplicates\n",
    "df.duplicated().sum()"
   ]
  },
  {
   "cell_type": "code",
   "execution_count": 147,
   "id": "c295e66d-8705-4b79-9933-d4b57b3f6c39",
   "metadata": {},
   "outputs": [],
   "source": [
    "#creating a cleaned dataset csv\n",
    "df.to_csv('airbnb_cleaned.csv', index=False)"
   ]
  }
 ],
 "metadata": {
  "kernelspec": {
   "display_name": "Python 3 (ipykernel)",
   "language": "python",
   "name": "python3"
  },
  "language_info": {
   "codemirror_mode": {
    "name": "ipython",
    "version": 3
   },
   "file_extension": ".py",
   "mimetype": "text/x-python",
   "name": "python",
   "nbconvert_exporter": "python",
   "pygments_lexer": "ipython3",
   "version": "3.12.4"
  }
 },
 "nbformat": 4,
 "nbformat_minor": 5
}
